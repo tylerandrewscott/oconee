{
 "cells": [
  {
   "cell_type": "code",
   "execution_count": 39,
   "metadata": {
    "collapsed": false
   },
   "outputs": [],
   "source": [
    "from bs4 import BeautifulSoup\n",
    "import urllib\n",
    "\n",
    "post_params = {\n",
    "    'Log-In ID' : 'grantee',\n",
    "    'Password' : 'oweb'\n",
    "        }\n",
    "\n",
    "post_args1 = urllib.parse.urlencode(post_params)\n",
    "post_args2 = post_args1.encode('utf-8') \n",
    "\n",
    "fp = urllib.request.urlopen(url, post_args2)\n",
    "soup = BeautifulSoup(fp)\n",
    "\n"
   ]
  },
  {
   "cell_type": "code",
   "execution_count": 7,
   "metadata": {
    "collapsed": false
   },
   "outputs": [],
   "source": [
    "import urllib.parse\n",
    "import urllib.request\n",
    "\n",
    "url = 'http://apps.wrd.state.or.us/apps/oweb/fiscal/default.aspx?'\n",
    "\n",
    "\n",
    "data = urllib.parse.urlencode(values)\n",
    "req = urllib.request.Request(url, data)\n",
    "#response = urllib.request.urlopen(req)\n",
    "#the_page = response.read()"
   ]
  },
  {
   "cell_type": "code",
   "execution_count": 11,
   "metadata": {
    "collapsed": false
   },
   "outputs": [],
   "source": [
    "import urllib.request\n",
    "url = 'http://apps.wrd.state.or.us/apps/oweb/fiscal/default.aspx?'\n",
    "values = {'txtuser' : 'grantee',\n",
    "          'txtpwd' : 'oweb' }\n",
    "response = urllib.request.urlopen(url)\n",
    "html = response.read()"
   ]
  },
  {
   "cell_type": "code",
   "execution_count": 45,
   "metadata": {
    "collapsed": false
   },
   "outputs": [],
   "source": [
    "\n",
    "from selenium import webdriver\n",
    "\n",
    "profile = webdriver.FirefoxProfile()\n",
    "profile.set_preference(\"general.useragent.override\",\"Mozilla/5.0 (Macintosh; Intel Mac OS X 10_10_2) AppleWebKit/537.36 (KHTML, like Gecko) Chrome/40.0.2214.111 Safari/537.36\")\n",
    "driver = webdriver.Firefox(profile)\n",
    "\n",
    "driver.get(\"http://apps.wrd.state.or.us/apps/oweb/fiscal/default.aspx\")\n",
    "\n",
    "username = driver.find_element_by_id(\"txtuser\")\n",
    "password = driver.find_element_by_id(\"txtpwd\")\n",
    "username.send_keys(\"grantee\")\n",
    "password.send_keys(\"oweb\")\n",
    "\n",
    "driver.find_element_by_name(\"inputsubmit1\").click()\n",
    "#continue_link = driver.find_element_by_link_text('OGMS Search')\n",
    "driver.find_element_by_link_text('OGMS Search').click()\n",
    "\n",
    "fromdate = driver.find_element_by_id('txtbegin')\n",
    "todate = driver.find_element_by_id('txtend')\n",
    "fromdate.send_keys('01/01/1985')\n",
    "todate.send_keys('12/31/2015')\n",
    "#all_selected_options = select.all_selected_options\n",
    "driver.find_element_by_id(\"btnsubmit\").click()"
   ]
  },
  {
   "cell_type": "code",
   "execution_count": 22,
   "metadata": {
    "collapsed": true
   },
   "outputs": [
    {
     "data": {
      "text/plain": [
       "<bound method WebDriver.get_cookie of <selenium.webdriver.firefox.webdriver.WebDriver object at 0x106b654e0>>"
      ]
     },
     "execution_count": 22,
     "metadata": {},
     "output_type": "execute_result"
    }
   ],
   "source": [
    "all_selef"
   ]
  },
  {
   "cell_type": "code",
   "execution_count": 33,
   "metadata": {
    "collapsed": false
   },
   "outputs": [
    {
     "data": {
      "text/plain": [
       "{}"
      ]
     },
     "execution_count": 33,
     "metadata": {},
     "output_type": "execute_result"
    }
   ],
   "source": []
  },
  {
   "cell_type": "code",
   "execution_count": 15,
   "metadata": {
    "collapsed": false
   },
   "outputs": [
    {
     "name": "stdout",
     "output_type": "stream",
     "text": [
      "\r\n",
      "\r\n",
      "<!DOCTYPE html PUBLIC \"-//W3C//DTD XHTML 1.0 Transitional//EN\" \"http://www.w3.org/TR/xhtml1/DTD/xhtml1-transitional.dtd\">\r\n",
      "\r\n",
      "<html xmlns=\"http://www.w3.org/1999/xhtml\">\r\n",
      "<head id=\"Head1\"><title>\r\n",
      "\tWelcome to OGMS\r\n",
      "</title><link href=\"css/leftbar.css\" rel=\"stylesheet\" type=\"text/css\" /><link id=\"leftbarfavicon\" rel=\"icon\" href=\"CSS/Images/favicon.ico\" type=\"image/ico\" /><link id=\"leftbarfaviconie\" rel=\"shortcut icon\" href=\"CSS/Images/favicon.ico\" type=\"image/x-icon\" />\r\n",
      "\r\n",
      "<script language=\"javascript\" type=\"text/javascript\">\r\n",
      "<!--\r\n",
      "\r\n",
      "// -->\r\n",
      "</script>\r\n",
      "    <meta name=\"description\" content=\"The description of my page\" /><meta name=\"viewport\" content=\"width=device-width, initial-scale=1.0\" /></head>\r\n",
      "<body>\r\n",
      "<form method=\"post\" action=\"default.aspx\" id=\"form1\">\r\n",
      "<input type=\"hidden\" name=\"__VIEWSTATE\" id=\"__VIEWSTATE\" value=\"/wEPDwULLTE1MzAzMjExNDlkGAEFHl9fQ29udHJvbHNSZXF1aXJlUG9zdEJhY2tLZXlfXxYBBQVjYm5ld5Bpe3+DN9ZV/W6xMxbFxyJwtMKB/iS/4fnizB2Sl9m5\" />\r\n",
      "\r\n",
      "<input type=\"hidden\" name=\"__EVENTVALIDATION\" id=\"__EVENTVALIDATION\" value=\"/wEdAAasHcaj+7fAd5QLrZa4CoX9LaE20sJcIqr3ZMoyNhLgJUU5Jrd1Z2UCcBF/HibLzXVhnDzjtiwF/WsUXurzEI9hd6arvGbfL3GfbjDy5AhaO/ZBaim+NeBChQBHiuvhzMUHFVlzMHF0/qaWAVncxadSy3OtWXyM9ELb5UYf6h3xpw==\" />\r\n",
      "<div id=\"header\">\r\n",
      "    <ul>\r\n",
      "        <li>\r\n",
      "            <a id=\"owebhome\" href=\"http://egov.oregon.gov/OWEB/\" style=\"display:inline-block;\">OWEB Homepage</a> \r\n",
      "            \r\n",
      "            <a onclick=\"window.external.AddFavorite(location.href, document.title);\" id=\"LinkButton2\" href=\"javascript:__doPostBack(&#39;LinkButton2&#39;,&#39;&#39;)\"><i><font color=\"White\">\r\n",
      "                    Add to Favorites\r\n",
      "            </font></i></a>                    \r\n",
      "        </li>\r\n",
      "    </ul>\r\n",
      "</div>\r\n",
      "<div id=\"sidebar\">\r\n",
      "    <div class=\"ogms\">OGMS</div>\r\n",
      "\t<div id=\"logo\">\r\n",
      "\t</div>\r\n",
      "     <div id=\"login\" class=\"boxed\">\r\n",
      "\t\t<h2 class=\"title\">OGMS Login</h2>\r\n",
      "\t\t<div class=\"content\">\r\n",
      "            <fieldset>\r\n",
      "                <label for=\"txtuser\">\r\n",
      "                    Log-In ID</label>\r\n",
      "                <input name=\"txtuser\" type=\"text\" id=\"txtuser\" />\r\n",
      "                <label for=\"txtpwd\">\r\n",
      "                    Password</label>\r\n",
      "                <input name=\"txtpwd\" type=\"password\" id=\"txtpwd\" />\r\n",
      "                <input type=\"submit\" name=\"inputsubmit1\" value=\"Log In\" id=\"inputsubmit1\" />\r\n",
      "                <p style=\"color: White\">\r\n",
      "                <span id=\"lblstatus\" style=\"display:inline-block;\"></span>\r\n",
      "                </p>\r\n",
      "            </fieldset>\r\n",
      "        </div>\r\n",
      "    </div> <!-- login -->\r\n",
      "</div>\r\n",
      "<div id=\"main\">\r\n",
      "\t<div id=\"welcome\" class=\"post\">\r\n",
      "\t\t<h2 class=\"title\">Welcome to <strong>OGMS!</strong></h2>\r\n",
      "\t\t<div class=\"meta\">\r\n",
      "\t\t\t<p style=\"color: White\">Oregon Watershed Enhancement Board Grant Management System (OGMS). Please Log in.</p>\r\n",
      "\t\t</div>\r\n",
      "\t\t<div class=\"story\">\r\n",
      "\t\t    <br />\r\n",
      "\t\t    <br />\r\n",
      "\t\t\t<p>\r\n",
      "\t\t\t<strong>\r\n",
      "\t\t\t    Changes have been made and will continue to be made to OGMS security. If you have any problems please \r\n",
      "\t\t\t    contact us at 503.986.0183.\r\n",
      "\t\t\t</strong>\r\n",
      "\t\t\t</p>\r\n",
      "\t\r\n",
      "\t\t    <strong>\r\n",
      "\t\t        Note:\r\n",
      "\t\t    </strong>\r\n",
      "\t\t    <br />\r\n",
      "\t\t    <p>The system is designed to work best using <strong>Microsoft Internet Explorer</strong>, full functionality is not \r\n",
      "\t\t    guaranteed in browsers such as Firefox or Google Chrome.</p>\r\n",
      "\t\t    <br />\r\n",
      "\t\t    <p><span><b><input id=\"cbnew\" type=\"checkbox\" name=\"cbnew\" /><label for=\"cbnew\">   This is the first time I have used OGMS</label></b></span></p>\r\n",
      "\t\t</div>\r\n",
      "\t</div>\r\n",
      "\t<div id=\"example\" class=\"post\">\r\n",
      "\t\t<div class=\"meta\">\r\n",
      "\t\t\t<p>How can I search the OWEB database?</p>\r\n",
      "\t\t</div>\r\n",
      "\t\t<div class=\"story\">\r\n",
      "            <p>You can search by:</p>\r\n",
      "            <ul class=\"bodyul\">\r\n",
      "                <li>Project Number</li>\r\n",
      "                <li>Project Name</li>\r\n",
      "                <li>Grantee</li>\r\n",
      "                <li>Payee</li>\r\n",
      "                <li>Many other search fields</li>\r\n",
      "            </ul>\r\n",
      "            <p>You can even combine multiple search fields to further refine your search!!!</p>\r\n",
      "            <p>Log in to <strong>OGMS</strong> and give it a try.</p>\r\n",
      "\t\t</div>\r\n",
      "\t</div>\r\n",
      "</div>\r\n",
      "</form>\r\n",
      "</body>\r\n",
      "</html>\r\n",
      "\n"
     ]
    }
   ],
   "source": [
    "#payload = {'key1': 'value1', 'key2': 'value2'}\n",
    "payload = {'txtuser':'grantee','txtpwd':'oweb'}\n",
    "#r = requests.post(\"http://httpbin.org/post\", data=payload)\n",
    "r = requests.post(\"http://apps.wrd.state.or.us/apps/oweb/fiscal/default.aspx?\", data=payload)\n",
    "print(r.text)"
   ]
  },
  {
   "cell_type": "code",
   "execution_count": 4,
   "metadata": {
    "collapsed": false
   },
   "outputs": [],
   "source": [
    "r = requests.post(owebfront,data = payload)\n"
   ]
  },
  {
   "cell_type": "code",
   "execution_count": 98,
   "metadata": {
    "collapsed": false
   },
   "outputs": [
    {
     "data": {
      "text/plain": [
       "b'txtpwd=oweb&txtuser=grantee&inputsubmit1=Log%0A+In'"
      ]
     },
     "execution_count": 98,
     "metadata": {},
     "output_type": "execute_result"
    }
   ],
   "source": [
    "\n",
    "login_data=urllib.parse.urlencode({'txtuser':'grantee','txtpwd':'oweb','inputsubmit1':'Log\\n In'}).encode('ascii') # replace username and password with filed name \n",
    "#http://stackoverflow.com/questions/11685235/login-using-python-in-basic-html-form\n",
    "login_data"
   ]
  },
  {
   "cell_type": "code",
   "execution_count": 99,
   "metadata": {
    "collapsed": false
   },
   "outputs": [],
   "source": [
    "op = urllib.request.urlopen('http://apps.wrd.state.or.us/apps/oweb/fiscal/default.aspx?',login_data)\n"
   ]
  },
  {
   "cell_type": "code",
   "execution_count": 100,
   "metadata": {
    "collapsed": false
   },
   "outputs": [
    {
     "data": {
      "text/plain": [
       "['\\n',\n",
       " 'html PUBLIC \"-//W3C//DTD XHTML 1.0 Transitional//EN\" \"http://www.w3.org/TR/xhtml1/DTD/xhtml1-transitional.dtd\"',\n",
       " '\\n',\n",
       " <html xmlns=\"http://www.w3.org/1999/xhtml\">\n",
       " <head id=\"Head1\"><title>\n",
       " \tWelcome to OGMS\n",
       " </title><link href=\"css/leftbar.css\" rel=\"stylesheet\" type=\"text/css\"/><link href=\"CSS/Images/favicon.ico\" id=\"leftbarfavicon\" rel=\"icon\" type=\"image/ico\"/><link href=\"CSS/Images/favicon.ico\" id=\"leftbarfaviconie\" rel=\"shortcut icon\" type=\"image/x-icon\"/>\n",
       " <script language=\"javascript\" type=\"text/javascript\">\n",
       " <!--\n",
       " \n",
       " // -->\n",
       " </script>\n",
       " <meta content=\"The description of my page\" name=\"description\"/><meta content=\"width=device-width, initial-scale=1.0\" name=\"viewport\"/></head>\n",
       " <body>\n",
       " <form action=\"default.aspx\" id=\"form1\" method=\"post\">\n",
       " <input id=\"__VIEWSTATE\" name=\"__VIEWSTATE\" type=\"hidden\" value=\"/wEPDwULLTE1MzAzMjExNDlkGAEFHl9fQ29udHJvbHNSZXF1aXJlUG9zdEJhY2tLZXlfXxYBBQVjYm5ldxoV2BHD8vtMCWa7v95i+q8UqCdUZ2iQoxSikY6/FSr+\"/>\n",
       " <input id=\"__EVENTVALIDATION\" name=\"__EVENTVALIDATION\" type=\"hidden\" value=\"/wEdAAYrHPk/rgOJXF0O7aXDRGh+LaE20sJcIqr3ZMoyNhLgJUU5Jrd1Z2UCcBF/HibLzXVhnDzjtiwF/WsUXurzEI9hd6arvGbfL3GfbjDy5AhaO/ZBaim+NeBChQBHiuvhzMXIhx/bY2K0fVgPSfS/zjK/JTZKq80gnqRoebjZcDvIKQ==\"/>\n",
       " <div id=\"header\">\n",
       " <ul>\n",
       " <li>\n",
       " <a href=\"http://egov.oregon.gov/OWEB/\" id=\"owebhome\" style=\"display:inline-block;\">OWEB Homepage</a>\n",
       " <a href=\"javascript:__doPostBack('LinkButton2','')\" id=\"LinkButton2\" onclick=\"window.external.AddFavorite(location.href, document.title);\"><i><font color=\"White\">\n",
       "                     Add to Favorites\n",
       "             </font></i></a>\n",
       " </li>\n",
       " </ul>\n",
       " </div>\n",
       " <div id=\"sidebar\">\n",
       " <div class=\"ogms\">OGMS</div>\n",
       " <div id=\"logo\">\n",
       " </div>\n",
       " <div class=\"boxed\" id=\"login\">\n",
       " <h2 class=\"title\">OGMS Login</h2>\n",
       " <div class=\"content\">\n",
       " <fieldset>\n",
       " <label for=\"txtuser\">\n",
       "                     Log-In ID</label>\n",
       " <input id=\"txtuser\" name=\"txtuser\" type=\"text\"/>\n",
       " <label for=\"txtpwd\">\n",
       "                     Password</label>\n",
       " <input id=\"txtpwd\" name=\"txtpwd\" type=\"password\"/>\n",
       " <input id=\"inputsubmit1\" name=\"inputsubmit1\" type=\"submit\" value=\"Log In\"/>\n",
       " <p style=\"color: White\">\n",
       " <span id=\"lblstatus\" style=\"display:inline-block;\"></span>\n",
       " </p>\n",
       " </fieldset>\n",
       " </div>\n",
       " </div> <!-- login -->\n",
       " </div>\n",
       " <div id=\"main\">\n",
       " <div class=\"post\" id=\"welcome\">\n",
       " <h2 class=\"title\">Welcome to <strong>OGMS!</strong></h2>\n",
       " <div class=\"meta\">\n",
       " <p style=\"color: White\">Oregon Watershed Enhancement Board Grant Management System (OGMS). Please Log in.</p>\n",
       " </div>\n",
       " <div class=\"story\">\n",
       " <br/>\n",
       " <br/>\n",
       " <p>\n",
       " <strong>\n",
       " \t\t\t    Changes have been made and will continue to be made to OGMS security. If you have any problems please \n",
       " \t\t\t    contact us at 503.986.0183.\n",
       " \t\t\t</strong>\n",
       " </p>\n",
       " <strong>\n",
       " \t\t        Note:\n",
       " \t\t    </strong>\n",
       " <br/>\n",
       " <p>The system is designed to work best using <strong>Microsoft Internet Explorer</strong>, full functionality is not \n",
       " \t\t    guaranteed in browsers such as Firefox or Google Chrome.</p>\n",
       " <br/>\n",
       " <p><span><b><input id=\"cbnew\" name=\"cbnew\" type=\"checkbox\"/><label for=\"cbnew\">   This is the first time I have used OGMS</label></b></span></p>\n",
       " </div>\n",
       " </div>\n",
       " <div class=\"post\" id=\"example\">\n",
       " <div class=\"meta\">\n",
       " <p>How can I search the OWEB database?</p>\n",
       " </div>\n",
       " <div class=\"story\">\n",
       " <p>You can search by:</p>\n",
       " <ul class=\"bodyul\">\n",
       " <li>Project Number</li>\n",
       " <li>Project Name</li>\n",
       " <li>Grantee</li>\n",
       " <li>Payee</li>\n",
       " <li>Many other search fields</li>\n",
       " </ul>\n",
       " <p>You can even combine multiple search fields to further refine your search!!!</p>\n",
       " <p>Log in to <strong>OGMS</strong> and give it a try.</p>\n",
       " </div>\n",
       " </div>\n",
       " </div>\n",
       " </form>\n",
       " </body>\n",
       " </html>,\n",
       " '\\n']"
      ]
     },
     "execution_count": 100,
     "metadata": {},
     "output_type": "execute_result"
    }
   ],
   "source": [
    "from bs4 import BeautifulSoup\n",
    "optest=BeautifulSoup(op)\n",
    "optest.contents"
   ]
  },
  {
   "cell_type": "code",
   "execution_count": 20,
   "metadata": {
    "collapsed": false
   },
   "outputs": [
    {
     "name": "stdout",
     "output_type": "stream",
     "text": [
      "\r\n",
      "\r\n",
      "<!DOCTYPE html PUBLIC \"-//W3C//DTD XHTML 1.0 Transitional//EN\" \"http://www.w3.org/TR/xhtml1/DTD/xhtml1-transitional.dtd\">\r\n",
      "\r\n",
      "<html xmlns=\"http://www.w3.org/1999/xhtml\">\r\n",
      "<head id=\"Head1\"><title>\r\n",
      "\tWelcome to OGMS\r\n",
      "</title><link href=\"css/leftbar.css\" rel=\"stylesheet\" type=\"text/css\" /><link id=\"leftbarfavicon\" rel=\"icon\" href=\"CSS/Images/favicon.ico\" type=\"image/ico\" /><link id=\"leftbarfaviconie\" rel=\"shortcut icon\" href=\"CSS/Images/favicon.ico\" type=\"image/x-icon\" />\r\n",
      "\r\n",
      "<script language=\"javascript\" type=\"text/javascript\">\r\n",
      "<!--\r\n",
      "\r\n",
      "// -->\r\n",
      "</script>\r\n",
      "    <meta name=\"description\" content=\"The description of my page\" /><meta name=\"viewport\" content=\"width=device-width, initial-scale=1.0\" /></head>\r\n",
      "<body>\r\n",
      "<form method=\"post\" action=\"default.aspx\" id=\"form1\">\r\n",
      "<input type=\"hidden\" name=\"__VIEWSTATE\" id=\"__VIEWSTATE\" value=\"/wEPDwULLTE1MzAzMjExNDlkGAEFHl9fQ29udHJvbHNSZXF1aXJlUG9zdEJhY2tLZXlfXxYBBQVjYm5ld/Y1HXFXzqXFgufiE2op28t4wTDVDuCmSUJe9zGlHn8A\" />\r\n",
      "\r\n",
      "<input type=\"hidden\" name=\"__EVENTVALIDATION\" id=\"__EVENTVALIDATION\" value=\"/wEdAAaGGg7zKMmCIoGXZk5fnNLQLaE20sJcIqr3ZMoyNhLgJUU5Jrd1Z2UCcBF/HibLzXVhnDzjtiwF/WsUXurzEI9hd6arvGbfL3GfbjDy5AhaO/ZBaim+NeBChQBHiuvhzMUjPH/JvxD+tQ8qoayLuU3W7coRzMEttrdIS/ElIIRXtw==\" />\r\n",
      "<div id=\"header\">\r\n",
      "    <ul>\r\n",
      "        <li>\r\n",
      "            <a id=\"owebhome\" href=\"http://egov.oregon.gov/OWEB/\" style=\"display:inline-block;\">OWEB Homepage</a> \r\n",
      "            \r\n",
      "            <a onclick=\"window.external.AddFavorite(location.href, document.title);\" id=\"LinkButton2\" href=\"javascript:__doPostBack(&#39;LinkButton2&#39;,&#39;&#39;)\"><i><font color=\"White\">\r\n",
      "                    Add to Favorites\r\n",
      "            </font></i></a>                    \r\n",
      "        </li>\r\n",
      "    </ul>\r\n",
      "</div>\r\n",
      "<div id=\"sidebar\">\r\n",
      "    <div class=\"ogms\">OGMS</div>\r\n",
      "\t<div id=\"logo\">\r\n",
      "\t</div>\r\n",
      "     <div id=\"login\" class=\"boxed\">\r\n",
      "\t\t<h2 class=\"title\">OGMS Login</h2>\r\n",
      "\t\t<div class=\"content\">\r\n",
      "            <fieldset>\r\n",
      "                <label for=\"txtuser\">\r\n",
      "                    Log-In ID</label>\r\n",
      "                <input name=\"txtuser\" type=\"text\" id=\"txtuser\" />\r\n",
      "                <label for=\"txtpwd\">\r\n",
      "                    Password</label>\r\n",
      "                <input name=\"txtpwd\" type=\"password\" id=\"txtpwd\" />\r\n",
      "                <input type=\"submit\" name=\"inputsubmit1\" value=\"Log In\" id=\"inputsubmit1\" />\r\n",
      "                <p style=\"color: White\">\r\n",
      "                <span id=\"lblstatus\" style=\"display:inline-block;\"></span>\r\n",
      "                </p>\r\n",
      "            </fieldset>\r\n",
      "        </div>\r\n",
      "    </div> <!-- login -->\r\n",
      "</div>\r\n",
      "<div id=\"main\">\r\n",
      "\t<div id=\"welcome\" class=\"post\">\r\n",
      "\t\t<h2 class=\"title\">Welcome to <strong>OGMS!</strong></h2>\r\n",
      "\t\t<div class=\"meta\">\r\n",
      "\t\t\t<p style=\"color: White\">Oregon Watershed Enhancement Board Grant Management System (OGMS). Please Log in.</p>\r\n",
      "\t\t</div>\r\n",
      "\t\t<div class=\"story\">\r\n",
      "\t\t    <br />\r\n",
      "\t\t    <br />\r\n",
      "\t\t\t<p>\r\n",
      "\t\t\t<strong>\r\n",
      "\t\t\t    Changes have been made and will continue to be made to OGMS security. If you have any problems please \r\n",
      "\t\t\t    contact us at 503.986.0183.\r\n",
      "\t\t\t</strong>\r\n",
      "\t\t\t</p>\r\n",
      "\t\r\n",
      "\t\t    <strong>\r\n",
      "\t\t        Note:\r\n",
      "\t\t    </strong>\r\n",
      "\t\t    <br />\r\n",
      "\t\t    <p>The system is designed to work best using <strong>Microsoft Internet Explorer</strong>, full functionality is not \r\n",
      "\t\t    guaranteed in browsers such as Firefox or Google Chrome.</p>\r\n",
      "\t\t    <br />\r\n",
      "\t\t    <p><span><b><input id=\"cbnew\" type=\"checkbox\" name=\"cbnew\" /><label for=\"cbnew\">   This is the first time I have used OGMS</label></b></span></p>\r\n",
      "\t\t</div>\r\n",
      "\t</div>\r\n",
      "\t<div id=\"example\" class=\"post\">\r\n",
      "\t\t<div class=\"meta\">\r\n",
      "\t\t\t<p>How can I search the OWEB database?</p>\r\n",
      "\t\t</div>\r\n",
      "\t\t<div class=\"story\">\r\n",
      "            <p>You can search by:</p>\r\n",
      "            <ul class=\"bodyul\">\r\n",
      "                <li>Project Number</li>\r\n",
      "                <li>Project Name</li>\r\n",
      "                <li>Grantee</li>\r\n",
      "                <li>Payee</li>\r\n",
      "                <li>Many other search fields</li>\r\n",
      "            </ul>\r\n",
      "            <p>You can even combine multiple search fields to further refine your search!!!</p>\r\n",
      "            <p>Log in to <strong>OGMS</strong> and give it a try.</p>\r\n",
      "\t\t</div>\r\n",
      "\t</div>\r\n",
      "</div>\r\n",
      "</form>\r\n",
      "</body>\r\n",
      "</html>\r\n",
      "\n"
     ]
    }
   ],
   "source": [
    "print(r.text)"
   ]
  },
  {
   "cell_type": "code",
   "execution_count": 21,
   "metadata": {
    "collapsed": false
   },
   "outputs": [
    {
     "name": "stdout",
     "output_type": "stream",
     "text": [
      "{\n",
      "  \"args\": {}, \n",
      "  \"data\": \"\", \n",
      "  \"files\": {}, \n",
      "  \"form\": {\n",
      "    \"key1\": \"value1\", \n",
      "    \"key2\": \"value2\"\n",
      "  }, \n",
      "  \"headers\": {\n",
      "    \"Accept\": \"*/*\", \n",
      "    \"Accept-Encoding\": \"gzip, deflate\", \n",
      "    \"Content-Length\": \"23\", \n",
      "    \"Content-Type\": \"application/x-www-form-urlencoded\", \n",
      "    \"Host\": \"httpbin.org\", \n",
      "    \"User-Agent\": \"python-requests/2.6.0 CPython/3.4.3 Darwin/14.3.0\"\n",
      "  }, \n",
      "  \"json\": null, \n",
      "  \"origin\": \"67.183.178.102\", \n",
      "  \"url\": \"http://httpbin.org/post\"\n",
      "}\n",
      "\n"
     ]
    }
   ],
   "source": [
    "payload = {'key1': 'value1', 'key2': 'value2'}\n",
    "r = requests.post(\"http://httpbin.org/post\", data=payload)\n",
    "print(r.text)"
   ]
  },
  {
   "cell_type": "code",
   "execution_count": 118,
   "metadata": {
    "collapsed": false
   },
   "outputs": [],
   "source": [
    "import requests\n",
    " \n",
    "url = 'http://apps.wrd.state.or.us/apps/oweb/fiscal/default.aspx'\n",
    "\n",
    "r = requests.get(url, params=payload)\n",
    "with open(\"requests_results.html\", \"w\") as f:\n",
    "    f.write(r.content)"
   ]
  },
  {
   "cell_type": "code",
   "execution_count": 136,
   "metadata": {
    "collapsed": false
   },
   "outputs": [],
   "source": [
    "import requests\n",
    "from bs4 import BeautifulSoup\n",
    "\n",
    "url = \"http://apps.wrd.state.or.us/apps/oweb/fiscal/default.aspx\"\n",
    "\n",
    "username = \"grantee\"\n",
    "password = \"oweb\"\n",
    "\n",
    "response = requests.get(url, auth=(username, password), verify=False)\n",
    "\n",
    "# Getting the text of the page from the response data       \n",
    "page = BeautifulSoup(response.text)\n",
    "\n",
    "post = requests.post(url,auth=(username, password),verify=False)\n"
   ]
  },
  {
   "cell_type": "code",
   "execution_count": null,
   "metadata": {
    "collapsed": false
   },
   "outputs": [],
   "source": []
  },
  {
   "cell_type": "code",
   "execution_count": 126,
   "metadata": {
    "collapsed": false
   },
   "outputs": [
    {
     "name": "stdout",
     "output_type": "stream",
     "text": [
      "<<class 'requests.cookies.RequestsCookieJar'>[]>\n"
     ]
    },
    {
     "data": {
      "text/plain": [
       "<Response [200]>"
      ]
     },
     "execution_count": 126,
     "metadata": {},
     "output_type": "execute_result"
    }
   ],
   "source": [
    "URL = 'http://apps.wrd.state.or.us/apps/oweb/fiscal/default.aspx'\n",
    "payload = {\n",
    "    'txtuser': 'grantee',\n",
    "    'txtpwd': 'oweb'\n",
    "}\n",
    "\n",
    "session = requests.session()\n",
    "r = requests.post(URL, data=payload)\n",
    "print r.cookies\n",
    "\n",
    "with open(\"requests_results.html\", \"w\") as f:\n",
    "    f.write(r.content)\n",
    "session.get(URL)"
   ]
  },
  {
   "cell_type": "code",
   "execution_count": 134,
   "metadata": {
    "collapsed": false
   },
   "outputs": [],
   "source": [
    "import requests\n",
    "from bs4 import BeautifulSoup\n",
    "\n",
    "url = \"http://apps.wrd.state.or.us/apps/oweb/fiscal/default.aspx\"\n",
    "\n",
    "username = \"grantee\"\n",
    "password = \"oweb\"\n",
    "\n",
    "response = requests.get(url, auth=(username, password), verify=False)\n",
    "\n",
    "# Getting the text of the page from the response data       \n",
    "page = BeautifulSoup(response.text)\n",
    "\n",
    "post = requests.post(url,auth=(username, password),verify=False)\n",
    "\n",
    "\n",
    "# Finding the text contained in a specific element, for instance, the \n",
    "# textarea element that contains the area where you would write a forum post\n",
    "txt = page.find('textarea', id=\"text\").string\n",
    "\n",
    "# Finding the value of a specific attribute with name = \"version\" and \n",
    "# extracting the contents of the value attribute\n",
    "tag = page.find('input', attrs = {'name':'version'})\n",
    "ver = tag['value']\n",
    "\n",
    "# Changing the text to whatever you want\n",
    "txt = \"Your text here, this will be what is written to the textarea for the post\"\n",
    "\n",
    "# construct the POST request\n",
    "form_data = {\n",
    "    'save' : 'Submit changes'\n",
    "    'text' : txt\n",
    "} \n",
    "\n"
   ]
  },
  {
   "cell_type": "code",
   "execution_count": 53,
   "metadata": {
    "collapsed": false
   },
   "outputs": [],
   "source": [
    "'application/json; charset=utf8'\n",
    ">>> r.encoding\n",
    "'utf-8'\n",
    ">>> r.text\n",
    "u'{\"type\":\"User\"...'\n",
    ">>> r.json()\n",
    "{u'private_gists': 419, u'total_private_repos': 77, ...}"
   ]
  },
  {
   "cell_type": "code",
   "execution_count": 67,
   "metadata": {
    "collapsed": false
   },
   "outputs": [],
   "source": [
    "\n",
    "req1 = urllib2.Request('http://apps.wrd.state.or.us/apps/oweb/fiscal/default.aspx')\n",
    "response = urllib2.urlopen(req1)\n",
    "cookie = response.headers.get('Set-Cookie')\n",
    "# Use the cookie is subsequent requests\n",
    "req2 = urllib2.Request('http://apps.wrd.state.or.us/apps/oweb/fiscal/default.aspx')\n",
    "req2.add_header('cookie', cookie)\n",
    "response = urllib2.urlopen(req2)"
   ]
  }
 ],
 "metadata": {
  "kernelspec": {
   "display_name": "Python 3",
   "language": "python",
   "name": "python3"
  },
  "language_info": {
   "codemirror_mode": {
    "name": "ipython",
    "version": 3
   },
   "file_extension": ".py",
   "mimetype": "text/x-python",
   "name": "python",
   "nbconvert_exporter": "python",
   "pygments_lexer": "ipython3",
   "version": "3.4.3"
  }
 },
 "nbformat": 4,
 "nbformat_minor": 0
}
